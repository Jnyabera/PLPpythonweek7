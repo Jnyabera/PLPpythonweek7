{
 "cells": [
  {
   "cell_type": "code",
   "execution_count": 2,
   "id": "c7044f6e-9e21-4227-a403-9b7e445aecab",
   "metadata": {},
   "outputs": [
    {
     "name": "stdout",
     "output_type": "stream",
     "text": [
      "Basic Statistics:\n",
      "        Unnamed: 0     followers  artist_popularity    duration_ms  \\\n",
      "count  1000.000000  1.000000e+03        1000.000000    1000.000000   \n",
      "mean    499.500000  1.150655e+07          59.429000  212368.619000   \n",
      "std     288.819436  2.293890e+07          23.884963   65706.472572   \n",
      "min       0.000000  2.000000e+00           0.000000   51680.000000   \n",
      "25%     249.750000  1.038784e+06          57.000000  173083.000000   \n",
      "50%     499.500000  3.923159e+06          67.000000  204382.500000   \n",
      "75%     749.250000  1.142132e+07          74.000000  244192.750000   \n",
      "max     999.000000  1.194287e+08          92.000000  707160.000000   \n",
      "\n",
      "       track_popularity  danceability       energy          key     loudness  \\\n",
      "count       1000.000000   1000.000000  1000.000000  1000.000000  1000.000000   \n",
      "mean          59.429000      0.611430     0.660562     5.243000    -7.160373   \n",
      "std           23.884963      0.167246     0.207568     3.613725     4.479642   \n",
      "min            0.000000      0.069000     0.003540     0.000000   -39.482000   \n",
      "25%           57.000000      0.505500     0.539500     2.000000    -8.334250   \n",
      "50%           67.000000      0.634000     0.680500     5.000000    -5.943500   \n",
      "75%           74.000000      0.728250     0.820000     9.000000    -4.582500   \n",
      "max           92.000000      0.964000     0.998000    11.000000     0.273000   \n",
      "\n",
      "              mode  speechiness  acousticness  instrumentalness     liveness  \\\n",
      "count  1000.000000  1000.000000   1000.000000       1000.000000  1000.000000   \n",
      "mean      0.613000     0.091402      0.265840          0.074700     0.188810   \n",
      "std       0.487307     0.090441      0.288895          0.225472     0.145454   \n",
      "min       0.000000     0.023200      0.000005          0.000000     0.026000   \n",
      "25%       0.000000     0.037975      0.028325          0.000000     0.095700   \n",
      "50%       1.000000     0.054800      0.152500          0.000004     0.129000   \n",
      "75%       1.000000     0.106000      0.416250          0.000586     0.246500   \n",
      "max       1.000000     0.874000      0.996000          0.972000     0.984000   \n",
      "\n",
      "           valence        tempo  \n",
      "count  1000.000000  1000.000000  \n",
      "mean      0.516641   122.143448  \n",
      "std       0.232896    28.053658  \n",
      "min       0.032600    49.305000  \n",
      "25%       0.343500    99.983500  \n",
      "50%       0.522000   122.073500  \n",
      "75%       0.686250   138.667250  \n",
      "max       0.973000   201.776000  \n",
      "Average Artist Popularity by Genre:\n",
      "genres\n",
      "puerto rican pop, reggaeton, trap latino, urbano latino                           80.9\n",
      "garage rock, modern rock, permanent wave, rock, sheffield indie                   78.7\n",
      "alt z                                                                             78.7\n",
      "australian rock, hard rock, rock                                                  78.6\n",
      "atl hip hop, melodic rap, rap, trap                                               78.0\n",
      "east coast hip hop, hip hop, rap                                                  78.0\n",
      "pop                                                                               77.2\n",
      "bachata, latin hip hop, latin pop, urbano latino                                  77.2\n",
      "bachata, bachata dominicana, latin hip hop, latin pop, tropical, urbano latino    76.6\n",
      "british soul, pop, pop soul, uk pop                                               76.5\n",
      "Name: artist_popularity, dtype: float64\n"
     ]
    }
   ],
   "source": [
    "# Import pandas\n",
    "import pandas as pd\n",
    "\n",
    "#Load the dataset\n",
    "df = pd.read_csv(\"spotify.csv\")  # Make sure the path is correct\n",
    "\n",
    "# Compute basic statistics\n",
    "print(\"Basic Statistics:\")\n",
    "print(df.describe())\n",
    "\n",
    "# Group by a categorical column and compute mean of a numerical column\n",
    "grouped = df.groupby('genres')['artist_popularity'].mean()\n",
    "\n",
    "# Step 5: Sort the result and display top values\n",
    "print(\"Average Artist Popularity by Genre:\")\n",
    "print(grouped.sort_values(ascending=False).head(10))\n",
    "\n"
   ]
  },
  {
   "cell_type": "code",
   "execution_count": null,
   "id": "d68978a1-32e6-40e6-8879-6f5d6944900e",
   "metadata": {},
   "outputs": [],
   "source": []
  },
  {
   "cell_type": "code",
   "execution_count": null,
   "id": "5e4a1300-85a6-4450-ab23-a4326fe98366",
   "metadata": {},
   "outputs": [],
   "source": []
  }
 ],
 "metadata": {
  "kernelspec": {
   "display_name": "anaconda-2024.02-py310",
   "language": "python",
   "name": "conda-env-anaconda-2024.02-py310-py"
  },
  "language_info": {
   "codemirror_mode": {
    "name": "ipython",
    "version": 3
   },
   "file_extension": ".py",
   "mimetype": "text/x-python",
   "name": "python",
   "nbconvert_exporter": "python",
   "pygments_lexer": "ipython3",
   "version": "3.10.14"
  }
 },
 "nbformat": 4,
 "nbformat_minor": 5
}
